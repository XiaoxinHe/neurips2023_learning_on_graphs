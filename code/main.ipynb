{
 "cells": [
  {
   "cell_type": "code",
   "execution_count": null,
   "metadata": {},
   "outputs": [],
   "source": [
    "import re\n",
    "import pandas as pd\n",
    "\n",
    "df = pd.read_csv('neurips2023.csv')\n",
    "\n",
    "# custom keywords\n",
    "keywords = ['graph', 'graphs', 'message passing', 'gnn', 'gnns', 'WL', 'hypergraph', 'subgraph']\n",
    "\n",
    "keywords = [r'\\b' + k + r'\\b' for k in keywords]\n",
    "\n",
    "classes_regex = '(' + '|'.join([c.lower() for c in keywords]) + ')'\n",
    "matched = df['title'].apply(lambda x: len(re.findall(classes_regex, x.strip().lower())))\n",
    "df = df[matched > 0]\n",
    "\n",
    "df.to_csv(f'neurips2023_graphs.csv', index=False)"
   ]
  },
  {
   "cell_type": "code",
   "execution_count": null,
   "metadata": {},
   "outputs": [],
   "source": []
  }
 ],
 "metadata": {
  "kernelspec": {
   "display_name": "TAPE",
   "language": "python",
   "name": "python3"
  },
  "language_info": {
   "codemirror_mode": {
    "name": "ipython",
    "version": 3
   },
   "file_extension": ".py",
   "mimetype": "text/x-python",
   "name": "python",
   "nbconvert_exporter": "python",
   "pygments_lexer": "ipython3",
   "version": "3.8.16"
  },
  "orig_nbformat": 4
 },
 "nbformat": 4,
 "nbformat_minor": 2
}
